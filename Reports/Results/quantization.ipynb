{
 "cells": [
  {
   "cell_type": "code",
   "execution_count": 22,
   "metadata": {},
   "outputs": [],
   "source": [
    "dic= {\n",
    "5: \\\n",
    "[0.0005273532080512637, \\\n",
    "0.0016877931911526733, \\\n",
    "0.00018686482977599977, \\\n",
    "0.0005962772206420093, \\\n",
    "0.00018686482977599977, \\\n",
    "0.0019169138869584215, \\\n",
    "0.0005970284360380938, \\\n",
    "0.00018686482977599977,\n",
    "0.0005970284360380938, \\\n",
    "0.0016616884561387398], \\\n",
    "6: \\\n",
    "[9.91604322831436e-05, \\\n",
    "0.0012113348261861292, \\\n",
    "0.0016062863206775136, \\\n",
    "0.00013352853665400587, \\\n",
    "0.0004580535877624758, \\\n",
    "0.0008537562976499446, \\\n",
    "0.0005346775581630867, \\\n",
    "0.0005799382857771732, \\\n",
    "0.00012188469801469734, \\\n",
    "9.427753220859485e-05], \\\n",
    "8: \\\n",
    "[9.690678609489032e-05, \\\n",
    "8.845561288894059e-05, \\\n",
    "8.920682828502501e-05, \\\n",
    "8.826780903991949e-05, \\\n",
    "9.859702073608028e-05, \\\n",
    "8.582635900264512e-05, \\\n",
    "8.88312205869828e-05, \\\n",
    "9.033365137915164e-05, \\\n",
    "8.86434167379617e-05], \\\n",
    "7: \\\n",
    "[8.958243598306722e-05, \\\n",
    "8.563855515362401e-05, \\\n",
    "9.296290526544713e-05, \\\n",
    "8.808000519089838e-05, \\\n",
    "8.901902443600392e-05, \\\n",
    "9.54043553027215e-05, \\\n",
    "8.714098594579286e-05, \\\n",
    "9.127267062425717e-05, \\\n",
    "9.18360821713205e-05, \\\n",
    "8.657757439872954e-05], \\\n",
    "9: \\\n",
    "[0.00010460674390475565, \\\n",
    "0.00010460674390475565, \\\n",
    "9.57799630007637e-05, \\\n",
    "9.634337454782702e-05, \\\n",
    "9.95360399811858e-05, \\\n",
    "0.00010498235160279787, \\\n",
    "9.784580533999586e-05, \\\n",
    "0.00010347992081062902, \\\n",
    "9.878482458510138e-05, \\\n",
    "9.690678609489032e-05], \\\n",
    "10: \\\n",
    "[0.00010648478239496669, \\\n",
    "0.00010592137084790339, \\\n",
    "9.57799630007637e-05, \\\n",
    "9.634337454782702e-05, \\\n",
    "0.00010066286307531244, \\\n",
    "0.00010498235160279787, \\\n",
    "9.859702073608028e-05, \\\n",
    "0.00010554576314986117, \\\n",
    "9.859702073608028e-05, \\\n",
    "9.690678609489032e-05]\n",
    "}"
   ]
  },
  {
   "cell_type": "code",
   "execution_count": 23,
   "metadata": {},
   "outputs": [
    {
     "data": {
      "text/plain": [
       "{5: [0.0005273532080512637,\n",
       "  0.0016877931911526733,\n",
       "  0.00018686482977599977,\n",
       "  0.0005962772206420093,\n",
       "  0.00018686482977599977,\n",
       "  0.0019169138869584215,\n",
       "  0.0005970284360380938,\n",
       "  0.00018686482977599977,\n",
       "  0.0005970284360380938,\n",
       "  0.0016616884561387398],\n",
       " 6: [9.91604322831436e-05,\n",
       "  0.0012113348261861292,\n",
       "  0.0016062863206775136,\n",
       "  0.00013352853665400587,\n",
       "  0.0004580535877624758,\n",
       "  0.0008537562976499446,\n",
       "  0.0005346775581630867,\n",
       "  0.0005799382857771732,\n",
       "  0.00012188469801469734,\n",
       "  9.427753220859485e-05],\n",
       " 7: [8.958243598306722e-05,\n",
       "  8.563855515362401e-05,\n",
       "  9.296290526544713e-05,\n",
       "  8.808000519089838e-05,\n",
       "  8.901902443600392e-05,\n",
       "  9.54043553027215e-05,\n",
       "  8.714098594579286e-05,\n",
       "  9.127267062425717e-05,\n",
       "  9.18360821713205e-05,\n",
       "  8.657757439872954e-05],\n",
       " 8: [9.690678609489032e-05,\n",
       "  8.845561288894059e-05,\n",
       "  8.920682828502501e-05,\n",
       "  8.826780903991949e-05,\n",
       "  9.859702073608028e-05,\n",
       "  8.582635900264512e-05,\n",
       "  8.88312205869828e-05,\n",
       "  9.033365137915164e-05,\n",
       "  8.86434167379617e-05],\n",
       " 9: [0.00010460674390475565,\n",
       "  0.00010460674390475565,\n",
       "  9.57799630007637e-05,\n",
       "  9.634337454782702e-05,\n",
       "  9.95360399811858e-05,\n",
       "  0.00010498235160279787,\n",
       "  9.784580533999586e-05,\n",
       "  0.00010347992081062902,\n",
       "  9.878482458510138e-05,\n",
       "  9.690678609489032e-05],\n",
       " 10: [0.00010648478239496669,\n",
       "  0.00010592137084790339,\n",
       "  9.57799630007637e-05,\n",
       "  9.634337454782702e-05,\n",
       "  0.00010066286307531244,\n",
       "  0.00010498235160279787,\n",
       "  9.859702073608028e-05,\n",
       "  0.00010554576314986117,\n",
       "  9.859702073608028e-05,\n",
       "  9.690678609489032e-05]}"
      ]
     },
     "execution_count": 23,
     "metadata": {},
     "output_type": "execute_result"
    }
   ],
   "source": [
    "dic"
   ]
  },
  {
   "cell_type": "code",
   "execution_count": 24,
   "metadata": {},
   "outputs": [],
   "source": [
    "import matplotlib\n",
    "import numpy as np\n",
    "import matplotlib.pyplot as plt\n",
    "%matplotlib inline \n",
    "from pylab import *"
   ]
  },
  {
   "cell_type": "code",
   "execution_count": 25,
   "metadata": {},
   "outputs": [
    {
     "data": {
      "text/plain": [
       "[5, 6, 7, 8, 9, 10]"
      ]
     },
     "execution_count": 25,
     "metadata": {},
     "output_type": "execute_result"
    }
   ],
   "source": [
    "x= dic.keys()\n",
    "x"
   ]
  },
  {
   "cell_type": "code",
   "execution_count": 26,
   "metadata": {},
   "outputs": [
    {
     "data": {
      "text/plain": [
       "[0.0008144677324347295,\n",
       " 0.0005692898075376764,\n",
       " 8.975145944718622e-05,\n",
       " 9.05631894168441e-05,\n",
       " 0.00010028725537727023,\n",
       " 0.00010098212961864831]"
      ]
     },
     "execution_count": 26,
     "metadata": {},
     "output_type": "execute_result"
    }
   ],
   "source": [
    "y= [np.mean(dic[elt]) for elt in x]\n",
    "y"
   ]
  },
  {
   "cell_type": "code",
   "execution_count": 38,
   "metadata": {},
   "outputs": [
    {
     "data": {
      "text/plain": [
       "[0.0006404783829453387,\n",
       " 0.0004918238669623179,\n",
       " 2.934130882945806e-06,\n",
       " 4.020910940807262e-06,\n",
       " 3.5444711550362524e-06,\n",
       " 4.100880994130702e-06]"
      ]
     },
     "execution_count": 38,
     "metadata": {},
     "output_type": "execute_result"
    }
   ],
   "source": [
    "z= [np.std(dic[elt]) for elt in x]\n",
    "z"
   ]
  },
  {
   "cell_type": "code",
   "execution_count": 102,
   "metadata": {},
   "outputs": [
    {
     "data": {
      "text/plain": [
       "Text(120,-20,u'Look-up table fault rate = 1.94e-04')"
      ]
     },
     "execution_count": 102,
     "metadata": {},
     "output_type": "execute_result"
    },
    {
     "data": {
      "image/png": "[encoded data removed]",
      "text/plain": [
       "<matplotlib.figure.Figure at 0x118d479d0>"
      ]
     },
     "metadata": {},
     "output_type": "display_data"
    }
   ],
   "source": [
    "fig = figure(figsize=(9, 6))\n",
    "ax = fig.add_subplot(111)\n",
    "ax.set_xlabel('Number of fixed-point digits of precision')\n",
    "ax.set_ylabel('Logical fault rate in the inference mode')\n",
    "ax.set_ylim([0.00005, 0.0015])\n",
    "g= ax.plot(x, y, color= 'g', marker='o', markersize=5, label= 'new', linestyle= 'None')\n",
    "# ax.errorbar(x, y, yerr=z, color= 'g', linestyle='None', markersize=8, capsize=3)\n",
    "ax.set_yscale('log')\n",
    "for X, Y in zip(x, y):\n",
    "    ax.annotate('{0:.2e}'.format(Y), xy=(X,Y), xytext=(25, -20), ha='right', textcoords='offset points')\n",
    "ax.plot(x, [0.0001941891798878229]*6, linestyle= '--')\n",
    "ax.annotate('Look-up table fault rate = %.2e' % (0.0001941891798878229), \\\n",
    "    xy=(5.5, 0.0001941891798878229), xytext=(120, -20), ha= 'right', textcoords='offset points')"
   ]
  },
  {
   "cell_type": "code",
   "execution_count": 46,
   "metadata": {},
   "outputs": [
    {
     "data": {
      "text/plain": [
       "Text(3.2,0.5,u'Logical fault rate in inference mode')"
      ]
     },
     "execution_count": 46,
     "metadata": {},
     "output_type": "execute_result"
    }
   ],
   "source": []
  },
  {
   "cell_type": "code",
   "execution_count": null,
   "metadata": {},
   "outputs": [],
   "source": []
  }
 ],
 "metadata": {
  "kernelspec": {
   "display_name": "Python 2",
   "language": "python",
   "name": "python2"
  },
  "language_info": {
   "codemirror_mode": {
    "name": "ipython",
    "version": 2
   },
   "file_extension": ".py",
   "mimetype": "text/x-python",
   "name": "python",
   "nbconvert_exporter": "python",
   "pygments_lexer": "ipython2",
   "version": "2.7.14"
  }
 },
 "nbformat": 4,
 "nbformat_minor": 2
}
