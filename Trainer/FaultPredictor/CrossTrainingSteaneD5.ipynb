{
 "cells": [
  {
   "cell_type": "code",
   "execution_count": 1,
   "metadata": {},
   "outputs": [],
   "source": [
    "import sys, os, json\n",
    "from time import time, strftime, localtime\n",
    "import cPickle as pickle\n",
    "from ModelExRecCNOT import *\n",
    "from ModelSurface1EC import *\n",
    "import matplotlib.pyplot as plt\n",
    "%matplotlib inline"
   ]
  },
  {
   "cell_type": "code",
   "execution_count": 2,
   "metadata": {},
   "outputs": [],
   "source": [
    "with open('../../Param/PureError/Steane_CNOT_D5/2017-12-18-14-10-08.json') as paramfile:\n",
    "    param = json.load(paramfile)"
   ]
  },
  {
   "cell_type": "code",
   "execution_count": 3,
   "metadata": {},
   "outputs": [
    {
     "data": {
      "text/plain": [
       "{u'data': {u'num trials': 10, u'test fraction': 0.1},\n",
       " u'env': {u'EC scheme': u'ColorD5',\n",
       "  u'FT scheme': u'ExRecCNOT',\n",
       "  u'look up': False,\n",
       "  u'param folder': u'../../Param/PureError/Steane_CNOT_D5/',\n",
       "  u'pickle folder': u'../../Data/Pkl/PureError/Steane_CNOT_D5/e-03-2/',\n",
       "  u'raw folder': u'../../Data/Compact/Steane_CNOT_D5/e-03-2/',\n",
       "  u'report folder': u'../../Reports/PureError/Steane_CNOT_D5/'},\n",
       " u'nn': {u'W std': 0.06402113166946315,\n",
       "  u'activations': [u'relu', u'id'],\n",
       "  u'b std': 0.0,\n",
       "  u'iso': False,\n",
       "  u'keep rate': 1.0,\n",
       "  u'mixed': False,\n",
       "  u'num hidden': [941],\n",
       "  u'type': u'FF'},\n",
       " u'opt': {u'batch size': 2000,\n",
       "  u'decay': 0.9241752109242891,\n",
       "  u'iterations': 20,\n",
       "  u'learning rate': 0.0006542213414571715,\n",
       "  u'momentum': 0.6464972901885642,\n",
       "  u'tune value': 5.46169829402979e-05},\n",
       " u'usr': {u'verbose': False}}"
      ]
     },
     "execution_count": 3,
     "metadata": {},
     "output_type": "execute_result"
    }
   ],
   "source": [
    "param"
   ]
  },
  {
   "cell_type": "code",
   "execution_count": 4,
   "metadata": {},
   "outputs": [],
   "source": [
    "if(param['env']['EC scheme']=='SurfaceD3'):\n",
    "    import _SurfaceD3Lookup as lookup \n",
    "elif(param['env']['EC scheme']=='SurfaceD5'):\n",
    "    import _SurfaceD5Lookup as lookup \n",
    "elif(param['env']['EC scheme']=='ColorD3'):\n",
    "    import _ColorD3Lookup as lookup \n",
    "elif(param['env']['EC scheme']=='ColorD5'):\n",
    "    import _ColorD5Lookup as lookup \n",
    "else:\n",
    "    raise ValueError('Unknown circuit type.')\n",
    "spec= lookup.Spec()"
   ]
  },
  {
   "cell_type": "code",
   "execution_count": 5,
   "metadata": {},
   "outputs": [],
   "source": [
    "with open('../../Data/Pkl/PureError/Steane_CNOT_D5/e-03/SyndromeAndError2.000e-03.pkl', 'rb') as input_file:\n",
    "    m = pickle.load(input_file)\n",
    "\n",
    "m.test_size= int(param['data']['test fraction'] * m.data_size)\n",
    "m.train_size= m.data_size - m.test_size\n",
    "m.num_batches= m.train_size // param['opt']['batch size']\n",
    "m.spec= spec"
   ]
  },
  {
   "cell_type": "code",
   "execution_count": 8,
   "metadata": {},
   "outputs": [],
   "source": [
    "n= []\n",
    "with open('../../Data/Pkl/PureError/Steane_CNOT_D5/e-04/SyndromeAndError6.000e-04.pkl', 'rb') as input_file:\n",
    "    n.append(pickle.load(input_file))\n",
    "with open('../../Data/Pkl/PureError/Steane_CNOT_D5/e-04/SyndromeAndError7.000e-04.pkl', 'rb') as input_file:\n",
    "    n.append(pickle.load(input_file))\n",
    "with open('../../Data/Pkl/PureError/Steane_CNOT_D5/e-04/SyndromeAndError8.000e-04.pkl', 'rb') as input_file:\n",
    "    n.append(pickle.load(input_file))\n",
    "with open('../../Data/Pkl/PureError/Steane_CNOT_D5/e-04/SyndromeAndError9.000e-04.pkl', 'rb') as input_file:\n",
    "    n.append(pickle.load(input_file))\n",
    "for i in range(len(n)):\n",
    "    n[i].test_size= int(param['data']['test fraction'] * n[i].data_size)"
   ]
  },
  {
   "cell_type": "code",
   "execution_count": 12,
   "metadata": {},
   "outputs": [],
   "source": [
    "vals= {}\n",
    "for i in range(len(n)):\n",
    "    vals[i]= []"
   ]
  },
  {
   "cell_type": "code",
   "execution_count": 9,
   "metadata": {},
   "outputs": [],
   "source": [
    "verbose= param['usr']['verbose']\n",
    "batch_size= param['opt']['batch size']\n",
    "learning_rate= param['opt']['learning rate']\n",
    "num_iterations= param['opt']['iterations']\n",
    "momentum_val= param['opt']['momentum']\n",
    "decay_rate= param['opt']['decay']\n",
    "\n",
    "tf.reset_default_graph()\n",
    "x, y, predict= {}, {}, {}\n",
    "for key in m.spec.err_keys:\n",
    "    with tf.variable_scope(key):\n",
    "        x[key] = tf.placeholder(tf.float32, [None,m.spec.input_size])\n",
    "        y[key] = tf.placeholder(tf.float32, [None,2])\n",
    "keep_rate= tf.placeholder(tf.float32)\n",
    "#cost= surface_conv3d_cost(param['nn'], m.spec, x, y, predict, keep_rate)\n",
    "cost= m.cost_function(param['nn'], x, y, predict, keep_rate)\n",
    "train = tf.train.RMSPropOptimizer(learning_rate, decay=decay_rate, \\\n",
    "    momentum=momentum_val).minimize(cost)\n",
    "init = tf.global_variables_initializer()"
   ]
  },
  {
   "cell_type": "code",
   "execution_count": 17,
   "metadata": {},
   "outputs": [
    {
     "name": "stderr",
     "output_type": "stream",
     "text": [
      "100%|██████████| 20/20 [01:01<00:00,  3.05s/it]\n",
      "100%|██████████| 4/4 [00:00<00:00,  4.19it/s]\n",
      "100%|██████████| 4/4 [04:49<00:00, 72.38s/it]\n",
      "100%|██████████| 20/20 [01:01<00:00,  3.07s/it]\n",
      "100%|██████████| 4/4 [00:01<00:00,  3.86it/s]\n",
      "100%|██████████| 4/4 [04:47<00:00, 71.97s/it]\n",
      "100%|██████████| 20/20 [01:07<00:00,  3.38s/it]\n",
      "100%|██████████| 4/4 [00:01<00:00,  2.74it/s]\n",
      "100%|██████████| 4/4 [04:43<00:00, 70.92s/it]\n",
      "100%|██████████| 20/20 [01:00<00:00,  3.00s/it]\n",
      "100%|██████████| 4/4 [00:01<00:00,  2.80it/s]\n",
      "100%|██████████| 4/4 [04:47<00:00, 71.88s/it]\n",
      "100%|██████████| 20/20 [01:00<00:00,  3.02s/it]\n",
      "100%|██████████| 4/4 [00:00<00:00,  6.78it/s]\n",
      "100%|██████████| 4/4 [04:55<00:00, 73.86s/it]\n",
      "100%|██████████| 20/20 [00:59<00:00,  2.97s/it]\n",
      "100%|██████████| 4/4 [00:01<00:00,  2.49it/s]\n",
      "100%|██████████| 4/4 [04:47<00:00, 71.95s/it]\n",
      "100%|██████████| 20/20 [01:04<00:00,  3.24s/it]\n",
      "100%|██████████| 4/4 [00:00<00:00,  5.43it/s]\n",
      "100%|██████████| 4/4 [04:48<00:00, 72.14s/it]\n",
      "100%|██████████| 20/20 [01:00<00:00,  3.01s/it]\n",
      "100%|██████████| 4/4 [00:00<00:00,  6.18it/s]\n",
      "100%|██████████| 4/4 [04:57<00:00, 74.25s/it]\n",
      "100%|██████████| 20/20 [01:03<00:00,  3.15s/it]\n",
      "100%|██████████| 4/4 [00:00<00:00,  5.68it/s]\n",
      "100%|██████████| 4/4 [04:37<00:00, 69.37s/it]\n"
     ]
    }
   ],
   "source": [
    "for T in range(9):\n",
    "\n",
    "    pointer= randint(0, m.data_size - 1) # self.test_size * trial\n",
    "    t_beg= (m.train_size + pointer) % m.data_size\n",
    "\n",
    "    predictions= []\n",
    "\n",
    "    with tf.Session() as session:\n",
    "        session.run(init)\n",
    "\n",
    "        for i in tqdm.tqdm(range(num_iterations)):\n",
    "            for j in range(m.num_batches):\n",
    "                beg= (j * batch_size + pointer) % m.data_size\n",
    "                feed_dict={}\n",
    "                for key in m.spec.err_keys:\n",
    "                    feed_dict[x[key]]= \\\n",
    "                        cyc_pick(m.syn[key], beg, batch_size)\n",
    "                    feed_dict[y[key]]= \\\n",
    "                        cyc_pick(m.log_1hot[key], beg, batch_size)\n",
    "                    feed_dict[keep_rate]= param['nn']['keep rate']\n",
    "                session.run(train, feed_dict)\n",
    "\n",
    "        for i in tqdm.tqdm(range(len(n))):\n",
    "            prediction={}\n",
    "            feed_dict={}\n",
    "            for key in m.spec.err_keys:\n",
    "                feed_dict[x[key]]= \\\n",
    "                    cyc_pick(n[i].syn[key], t_beg, n[i].test_size)\n",
    "            feed_dict[keep_rate]= 1.0\n",
    "            for key in m.spec.err_keys:\n",
    "                prediction[key] = session.run(predict[key], feed_dict)\n",
    "            predictions.append(prediction)\n",
    "\n",
    "    for i in tqdm.tqdm(range(len(n))):\n",
    "        vals[i].append(n[i].error_scale * n[i].num_logical_fault(predictions[i], t_beg))\n",
    "    \n",
    "    vals"
   ]
  },
  {
   "cell_type": "code",
   "execution_count": 18,
   "metadata": {},
   "outputs": [
    {
     "data": {
      "text/plain": [
       "{0: [5.9954728878720084e-05,\n",
       "  6.974325604259275e-05,\n",
       "  5.9954728878720084e-05,\n",
       "  8.687317857936993e-05,\n",
       "  6.851969014710868e-05,\n",
       "  8.809674447485402e-05,\n",
       "  6.607255835614051e-05,\n",
       "  7.953178320646543e-05,\n",
       "  7.219038783356092e-05,\n",
       "  6.362542656517235e-05],\n",
       " 1: [0.00011493618267516545,\n",
       "  9.531293197452746e-05,\n",
       "  0.00010232123579618389,\n",
       "  0.00012334614726115318,\n",
       "  0.00013596109414013474,\n",
       "  0.00011914116496815932,\n",
       "  9.11079496815336e-05,\n",
       "  0.00011773950420382803,\n",
       "  0.00010372289656051518,\n",
       "  0.00011213286114650288],\n",
       " 2: [0.00016966850693710136,\n",
       "  0.0001806655397941357,\n",
       "  0.000190091567957308,\n",
       "  0.000190091567957308,\n",
       "  0.0002183696524468249,\n",
       "  0.00020108860081434235,\n",
       "  0.00018223654448799775,\n",
       "  0.0001963755867327562,\n",
       "  0.000190091567957308,\n",
       "  0.00019166257265117005],\n",
       " 3: [0.0002578489733847339,\n",
       "  0.0002303450828903623,\n",
       "  0.0002114361581754818,\n",
       "  0.0002578489733847339,\n",
       "  0.00024065904182575163,\n",
       "  0.00026816293232012324,\n",
       "  0.0002561299802288356,\n",
       "  0.00029050984334680016,\n",
       "  0.00024237803498164986,\n",
       "  0.00023550206235805696]}"
      ]
     },
     "execution_count": 18,
     "metadata": {},
     "output_type": "execute_result"
    }
   ],
   "source": [
    "vals"
   ]
  },
  {
   "cell_type": "code",
   "execution_count": null,
   "metadata": {},
   "outputs": [],
   "source": []
  }
 ],
 "metadata": {
  "kernelspec": {
   "display_name": "Python 2",
   "language": "python",
   "name": "python2"
  },
  "language_info": {
   "codemirror_mode": {
    "name": "ipython",
    "version": 2
   },
   "file_extension": ".py",
   "mimetype": "text/x-python",
   "name": "python",
   "nbconvert_exporter": "python",
   "pygments_lexer": "ipython2",
   "version": "2.7.13"
  }
 },
 "nbformat": 4,
 "nbformat_minor": 2
}
