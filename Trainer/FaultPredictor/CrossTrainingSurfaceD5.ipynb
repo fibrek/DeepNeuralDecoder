{
 "cells": [
  {
   "cell_type": "code",
   "execution_count": 1,
   "metadata": {},
   "outputs": [],
   "source": [
    "import sys, os, json\n",
    "from time import time, strftime, localtime\n",
    "import cPickle as pickle\n",
    "from ModelExRecCNOT import *\n",
    "from ModelSurface1EC import *\n",
    "import matplotlib.pyplot as plt\n",
    "%matplotlib inline"
   ]
  },
  {
   "cell_type": "code",
   "execution_count": 2,
   "metadata": {},
   "outputs": [],
   "source": [
    "with open('../../Param/PureError/Surface_1EC_D5/2017-12-26-15-55-31.json') as paramfile:\n",
    "    param = json.load(paramfile)"
   ]
  },
  {
   "cell_type": "code",
   "execution_count": 3,
   "metadata": {},
   "outputs": [
    {
     "data": {
      "text/plain": [
       "{u'data': {u'num test batch': 10, u'num trials': 10, u'test fraction': 0.1},\n",
       " u'env': {u'EC scheme': u'SurfaceD5',\n",
       "  u'FT scheme': u'Surface1EC',\n",
       "  u'look up': False,\n",
       "  u'param folder': u'../../Param/PureError/Surface_1EC_D5/',\n",
       "  u'pickle folder': u'../../Data/Pkl/PureError/Surface_1EC_D5/e-03/',\n",
       "  u'raw folder': u'../../Data/Compact/Surface_1EC_D5/e-03/',\n",
       "  u'report folder': u'../../Reports/PureError/Surface_1EC_D5/'},\n",
       " u'nn': {u'W std': 0.001351297996828406,\n",
       "  u'b std': 0.0,\n",
       "  u'iso': False,\n",
       "  u'keep rate': 0.554206472588703,\n",
       "  u'kernel size': 3,\n",
       "  u'mixed': False,\n",
       "  u'num filters': 49,\n",
       "  u'num hidden': [482],\n",
       "  u'padding size': 1,\n",
       "  u'type': u'3DCNN'},\n",
       " u'opt': {u'batch size': 2000,\n",
       "  u'decay': 0.9876636869768898,\n",
       "  u'iterations': 20,\n",
       "  u'learning rate': 0.00012062901951802724,\n",
       "  u'momentum': 0.8074066502068599,\n",
       "  u'tune value': 0.0005000867500471026},\n",
       " u'usr': {u'verbose': False}}"
      ]
     },
     "execution_count": 3,
     "metadata": {},
     "output_type": "execute_result"
    }
   ],
   "source": [
    "param"
   ]
  },
  {
   "cell_type": "code",
   "execution_count": 4,
   "metadata": {},
   "outputs": [],
   "source": [
    "if(param['env']['EC scheme']=='SurfaceD3'):\n",
    "    import _SurfaceD3Lookup as lookup \n",
    "elif(param['env']['EC scheme']=='SurfaceD5'):\n",
    "    import _SurfaceD5Lookup as lookup \n",
    "elif(param['env']['EC scheme']=='ColorD3'):\n",
    "    import _ColorD3Lookup as lookup \n",
    "elif(param['env']['EC scheme']=='ColorD5'):\n",
    "    import _ColorD5Lookup as lookup \n",
    "else:\n",
    "    raise ValueError('Unknown circuit type.')\n",
    "spec= lookup.Spec()"
   ]
  },
  {
   "cell_type": "code",
   "execution_count": 5,
   "metadata": {},
   "outputs": [],
   "source": [
    "with open('../../Data/Pkl/PureError/Surface_1EC_D5/e-03/2.000e-03.pkl', 'rb') as input_file:\n",
    "    m = pickle.load(input_file)\n",
    "\n",
    "m.test_size= int(param['data']['test fraction'] * m.data_size)\n",
    "m.train_size= m.data_size - m.test_size\n",
    "m.num_batches= m.train_size // param['opt']['batch size']\n",
    "m.spec= spec"
   ]
  },
  {
   "cell_type": "code",
   "execution_count": 6,
   "metadata": {},
   "outputs": [],
   "source": [
    "n= []\n",
    "with open('../../Data/Pkl/PureError/Surface_1EC_D5/e-04/3.000e-04.pkl', 'rb') as input_file:\n",
    "    n.append(pickle.load(input_file))\n",
    "with open('../../Data/Pkl/PureError/Surface_1EC_D5/e-04/4.000e-04.pkl', 'rb') as input_file:\n",
    "    n.append(pickle.load(input_file))\n",
    "with open('../../Data/Pkl/PureError/Surface_1EC_D5/e-04/5.000e-04.pkl', 'rb') as input_file:\n",
    "    n.append(pickle.load(input_file))\n",
    "with open('../../Data/Pkl/PureError/Surface_1EC_D5/e-04/6.000e-04.pkl', 'rb') as input_file:\n",
    "    n.append(pickle.load(input_file))\n",
    "with open('../../Data/Pkl/PureError/Surface_1EC_D5/e-04/7.000e-04.pkl', 'rb') as input_file:\n",
    "    n.append(pickle.load(input_file))\n",
    "with open('../../Data/Pkl/PureError/Surface_1EC_D5/e-04/8.000e-04.pkl', 'rb') as input_file:\n",
    "    n.append(pickle.load(input_file))\n",
    "for i in range(len(n)):\n",
    "    n[i].test_size= int(param['data']['test fraction'] * n[i].data_size)"
   ]
  },
  {
   "cell_type": "code",
   "execution_count": 7,
   "metadata": {},
   "outputs": [],
   "source": [
    "vals= {}\n",
    "for i in range(len(n)):\n",
    "    vals[i]= []"
   ]
  },
  {
   "cell_type": "code",
   "execution_count": 8,
   "metadata": {},
   "outputs": [],
   "source": [
    "verbose= param['usr']['verbose']\n",
    "batch_size= param['opt']['batch size']\n",
    "learning_rate= param['opt']['learning rate']\n",
    "num_iterations= param['opt']['iterations']\n",
    "momentum_val= param['opt']['momentum']\n",
    "decay_rate= param['opt']['decay']\n",
    "\n",
    "tf.reset_default_graph()\n",
    "x, y, predict= {}, {}, {}\n",
    "for key in m.spec.err_keys:\n",
    "    with tf.variable_scope(key):\n",
    "        x[key] = tf.placeholder(tf.float32, [None,m.spec.input_size])\n",
    "        y[key] = tf.placeholder(tf.float32, [None,2])\n",
    "keep_rate= tf.placeholder(tf.float32)\n",
    "#cost= surface_conv3d_cost(param['nn'], m.spec, x, y, predict, keep_rate)\n",
    "cost= m.cost_function(param['nn'], x, y, predict, keep_rate)\n",
    "train = tf.train.RMSPropOptimizer(learning_rate, decay=decay_rate, \\\n",
    "    momentum=momentum_val).minimize(cost)\n",
    "init = tf.global_variables_initializer()"
   ]
  },
  {
   "cell_type": "code",
   "execution_count": 9,
   "metadata": {},
   "outputs": [
    {
     "name": "stderr",
     "output_type": "stream",
     "text": [
      "100%|██████████| 20/20 [45:34<00:00, 136.74s/it]\n",
      "100%|██████████| 6/6 [00:29<00:00,  4.91s/it]\n",
      "100%|██████████| 6/6 [03:39<00:00, 36.56s/it]\n",
      "100%|██████████| 20/20 [45:09<00:00, 135.49s/it]\n",
      "100%|██████████| 6/6 [00:26<00:00,  4.44s/it]\n",
      "100%|██████████| 6/6 [03:39<00:00, 36.56s/it]\n",
      "100%|██████████| 20/20 [45:06<00:00, 135.32s/it]\n",
      "100%|██████████| 6/6 [00:26<00:00,  4.45s/it]\n",
      "100%|██████████| 6/6 [03:38<00:00, 36.39s/it]\n",
      "100%|██████████| 20/20 [45:12<00:00, 135.64s/it]\n",
      "100%|██████████| 6/6 [00:26<00:00,  4.46s/it]\n",
      "100%|██████████| 6/6 [03:37<00:00, 36.29s/it]\n",
      "100%|██████████| 20/20 [45:09<00:00, 135.47s/it]\n",
      "100%|██████████| 6/6 [00:26<00:00,  4.43s/it]\n",
      "100%|██████████| 6/6 [03:37<00:00, 36.33s/it]\n"
     ]
    }
   ],
   "source": [
    "for T in range(5):\n",
    "\n",
    "    pointer= randint(0, m.data_size - 1) # self.test_size * trial\n",
    "    t_beg= (m.train_size + pointer) % m.data_size\n",
    "\n",
    "    predictions= []\n",
    "\n",
    "    with tf.Session() as session:\n",
    "        session.run(init)\n",
    "\n",
    "        for i in tqdm.tqdm(range(num_iterations)):\n",
    "            for j in range(m.num_batches):\n",
    "                beg= (j * batch_size + pointer) % m.data_size\n",
    "                feed_dict={}\n",
    "                for key in m.spec.err_keys:\n",
    "                    feed_dict[x[key]]= \\\n",
    "                        cyc_pick(m.syn[key], beg, batch_size)\n",
    "                    feed_dict[y[key]]= \\\n",
    "                        cyc_pick(m.log_1hot[key], beg, batch_size)\n",
    "                    feed_dict[keep_rate]= param['nn']['keep rate']\n",
    "                session.run(train, feed_dict)\n",
    "\n",
    "        for i in tqdm.tqdm(range(len(n))):\n",
    "            prediction={}\n",
    "            num_test_batches= param['data']['num test batch'] if \\\n",
    "                'num test batch' in param['data'].keys() else 1\n",
    "            test_batch_size= m.test_size / num_test_batches\n",
    "            for j in range(num_test_batches):\n",
    "                beg= (j * test_batch_size + t_beg) % m.data_size\n",
    "                if j==num_test_batches-1:\n",
    "                    test_batch_size+= n[i].test_size % num_test_batches\n",
    "                feed_dict={}\n",
    "                for key in m.spec.err_keys:\n",
    "                    feed_dict[x[key]]= \\\n",
    "                        cyc_pick(n[i].syn[key], beg, test_batch_size)\n",
    "                feed_dict[keep_rate]= 1.0\n",
    "                for key in m.spec.err_keys:\n",
    "                    res= session.run(predict[key], feed_dict)\n",
    "                    if key in prediction.keys():\n",
    "                        prediction[key]= np.append(prediction[key], res, axis=0)\n",
    "                    else:\n",
    "                        prediction[key]= res\n",
    "            predictions.append(prediction)\n",
    "\n",
    "    for i in tqdm.tqdm(range(len(n))):\n",
    "        vals[i].append(n[i].error_scale * n[i].num_logical_fault(predictions[i], t_beg))\n",
    "    \n",
    "    vals"
   ]
  },
  {
   "cell_type": "code",
   "execution_count": 10,
   "metadata": {},
   "outputs": [
    {
     "data": {
      "text/plain": [
       "{0: [0.00012804097214566765,\n",
       "  0.00010191016150369467,\n",
       "  0.00012085499921912509,\n",
       "  0.00011236248576048386,\n",
       "  9.603072910925074e-05],\n",
       " 1: [0.00019456424589595452,\n",
       "  0.00021077793305395072,\n",
       "  0.00022016480456647487,\n",
       "  0.00023467178781310307,\n",
       "  0.00024747206714836325],\n",
       " 2: [0.00039245825140643467,\n",
       "  0.0003674077247209176,\n",
       "  0.0003621888649947682,\n",
       "  0.00036845149666614745,\n",
       "  0.0003632326369399981],\n",
       " 3: [0.0005836409321459078,\n",
       "  0.0005652874437136466,\n",
       "  0.0005922058934142964,\n",
       "  0.000572628839086551,\n",
       "  0.0005934294593097804],\n",
       " 4: [0.0008802429600000476,\n",
       "  0.0008634230308280722,\n",
       "  0.0008746363169427225,\n",
       "  0.000891456246114698,\n",
       "  0.0008508080839490907],\n",
       " 5: [0.0012285256706001228,\n",
       "  0.001233238684681709,\n",
       "  0.0012678007879466742,\n",
       "  0.0012772268161098462,\n",
       "  0.001237951698763295]}"
      ]
     },
     "execution_count": 10,
     "metadata": {},
     "output_type": "execute_result"
    }
   ],
   "source": [
    "vals"
   ]
  },
  {
   "cell_type": "code",
   "execution_count": null,
   "metadata": {},
   "outputs": [],
   "source": []
  }
 ],
 "metadata": {
  "kernelspec": {
   "display_name": "Python 2",
   "language": "python",
   "name": "python2"
  },
  "language_info": {
   "codemirror_mode": {
    "name": "ipython",
    "version": 2
   },
   "file_extension": ".py",
   "mimetype": "text/x-python",
   "name": "python",
   "nbconvert_exporter": "python",
   "pygments_lexer": "ipython2",
   "version": "2.7.13"
  }
 },
 "nbformat": 4,
 "nbformat_minor": 2
}
